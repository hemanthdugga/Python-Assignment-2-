{
 "cells": [
  {
   "cell_type": "code",
   "execution_count": 3,
   "id": "93e105d0",
   "metadata": {},
   "outputs": [
    {
     "name": "stdout",
     "output_type": "stream",
     "text": [
      "Type your first number :10\n",
      "Type your second number :20\n",
      "200\n",
      "0.5\n"
     ]
    }
   ],
   "source": [
    "#1)Write a program to accept two numbers from the user and calculate multiplication, division.\n",
    "x=int(input(\"Type your first number :\"))\n",
    "y=int(input(\"Type your second number :\"))\n",
    "p=x*y\n",
    "q=x/y\n",
    "print(p)\n",
    "print(q)"
   ]
  },
  {
   "cell_type": "code",
   "execution_count": 8,
   "id": "c9c09c72",
   "metadata": {},
   "outputs": [
    {
     "name": "stdout",
     "output_type": "stream",
     "text": [
      "Enter word: hemanthkumarreddy\n",
      "index[ 0 ] h\n",
      "index[ 2 ] m\n",
      "index[ 4 ] n\n",
      "index[ 6 ] h\n",
      "index[ 8 ] u\n",
      "index[ 10 ] a\n",
      "index[ 12 ] r\n",
      "index[ 14 ] d\n",
      "index[ 16 ] y\n"
     ]
    }
   ],
   "source": [
    "#2)write a python program to print the characters from a string that are present at an even index.\n",
    "word = input('Enter word: ')\n",
    "size = len(word)\n",
    "for i in range(0, size, 2):\n",
    "    print(\"index[\", i, \"]\", word[i])\n"
   ]
  },
  {
   "cell_type": "code",
   "execution_count": 9,
   "id": "3d42c0d7",
   "metadata": {},
   "outputs": [
    {
     "name": "stdout",
     "output_type": "stream",
     "text": [
      "Enter word: hemanthkumarreddy\n",
      "index[ 1 ] e\n",
      "index[ 3 ] a\n",
      "index[ 5 ] t\n",
      "index[ 7 ] k\n",
      "index[ 9 ] m\n",
      "index[ 11 ] r\n",
      "index[ 13 ] e\n",
      "index[ 15 ] d\n"
     ]
    }
   ],
   "source": [
    "#3)write a python program to print the characters from a string that are present at an odd index\n",
    "word = input('Enter word: ')\n",
    "size = len(word)\n",
    "for i in range(1, size, 2):\n",
    "    print(\"index[\", i, \"]\", word[i])\n"
   ]
  },
  {
   "cell_type": "code",
   "execution_count": 22,
   "id": "90fd949b",
   "metadata": {},
   "outputs": [
    {
     "name": "stdout",
     "output_type": "stream",
     "text": [
      "Enter first number 1\n",
      "Enter second number 4\n",
      "1 - 4 = -3\n"
     ]
    }
   ],
   "source": [
    "#4)write a pyhton program which will print the sum of the two numbers if the two numbers are even or it will print the difference\n",
    "# of two numbers\n",
    "num1=int(input(\"Enter first number \"))\n",
    "num2=int(input(\"Enter second number \"))\n",
    "if num1%2==0 and num2%2==0:\n",
    "    print(\"{} + {} = {}\".format(num1,num2,num1+num2))\n",
    "else:\n",
    "    print(\"{} - {} = {}\".format(num1,num2,num1-num2)) "
   ]
  },
  {
   "cell_type": "code",
   "execution_count": 24,
   "id": "66bacd38",
   "metadata": {},
   "outputs": [
    {
     "name": "stdout",
     "output_type": "stream",
     "text": [
      "The original string is : hemanthkumar\n",
      "The alternate case string is : HeMaNtHkUmAr\n"
     ]
    }
   ],
   "source": [
    "#5)Write a python program to convert all even indexed alphabets to upper and odd indexed char.\n",
    "\n",
    "test_str = \"hemanthkumar\"\n",
    "print(\"The original string is : \" + str(test_str))\n",
    "res = \"\"\n",
    "for x in range(len(test_str)):\n",
    "    if not x % 2 :\n",
    "        res = res + test_str[x].upper()\n",
    "    else:\n",
    "        res = res + test_str[x].lower()\n",
    "print(\"The alternate case string is : \" + str(res))"
   ]
  },
  {
   "cell_type": "code",
   "execution_count": 28,
   "id": "51263d8e",
   "metadata": {},
   "outputs": [
    {
     "name": "stdout",
     "output_type": "stream",
     "text": [
      "Numbers that are divisible by 5 are: [False, True, False, True, False, True]\n"
     ]
    }
   ],
   "source": [
    "#6)Write a python program which will print True if the input number is divisible by 5 or else False\n",
    "list_1 = [13, 10, 87, 50, 71, 25]\n",
    "result = list (map (lambda x: (x %5 == 0), list_1))\n",
    "print (\"Numbers that are divisible by 5 are:\", result)"
   ]
  },
  {
   "cell_type": "code",
   "execution_count": 29,
   "id": "4346820d",
   "metadata": {},
   "outputs": [
    {
     "name": "stdout",
     "output_type": "stream",
     "text": [
      "Type your first number: 10\n",
      "Type your second number: 2\n",
      "10 + 2 = 12\n"
     ]
    }
   ],
   "source": [
    "#7)Given two integer numbers return their product only if the product is greater than 1000, else return their sum.\n",
    "num1 = int(input(\"Type your first number: \"))\n",
    "num2 = int(input(\"Type your second number: \"))\n",
    "if num1*num2>=1000:\n",
    "    print(\"{} * {} = {}\".format(num1,num2,num1*num2))\n",
    "else:\n",
    "    print(\"{} + {} = {}\".format(num1,num2,num1+num2))"
   ]
  },
  {
   "cell_type": "code",
   "execution_count": 35,
   "id": "4fed36e1",
   "metadata": {},
   "outputs": [
    {
     "name": "stdout",
     "output_type": "stream",
     "text": [
      "enter any character pytho\n",
      "enter any character javas\n",
      "pjtvos\n"
     ]
    }
   ],
   "source": [
    "#8)Given two strings x, y writes a program to return a new string made of x and y’s first, middle, and last characters\n",
    "#Example:\n",
    "#Input\n",
    "#X=” pytho”\n",
    "#Y=” javas”\n",
    "#Output\n",
    "#” pjtvos”\n",
    "\n",
    "x= input(\"enter any character \")\n",
    "y= input(\"enter any character \")\n",
    "z=a[0]+b[0]+a[len(a)//2]+b[(len(b)//2)]+a[-1]+b[-1]\n",
    "print(z)"
   ]
  },
  {
   "cell_type": "code",
   "execution_count": 4,
   "id": "15afc8e8",
   "metadata": {},
   "outputs": [
    {
     "name": "stdout",
     "output_type": "stream",
     "text": [
      "enter the names :hemanth kumar reddy\n",
      "name1 : hemanth\n",
      "name2 : kumar\n",
      "name3 : reddy\n"
     ]
    }
   ],
   "source": [
    "#9)Write a python program to take three names as input from a user in the single input () function call\n",
    "#Input: Enter three names: - “person1 person2 person3” Output: Name1: - “person1” Name2: - “person2” Name3: - “person3”\n",
    "a=input(\"enter the names :\")\n",
    "b=a.split()\n",
    "for i in b:\n",
    "    print(\"name1 :\",b[0])\n",
    "    print(\"name2 :\",b[1])\n",
    "    print(\"name3 :\",b[2])\n",
    "    break;"
   ]
  },
  {
   "cell_type": "code",
   "execution_count": 3,
   "id": "3eaa3d4d",
   "metadata": {},
   "outputs": [
    {
     "name": "stdout",
     "output_type": "stream",
     "text": [
      "Type string : malayalam\n",
      "malayala@\n"
     ]
    }
   ],
   "source": [
    "#10) Write a Python program to get a string from a given string where all occurrences of its first char have been \n",
    "# changed to '@', except the first char itself.\n",
    "# Example:\n",
    "# Input:\n",
    "# 'malayalam’\n",
    "# Output:\n",
    "# 'malayala@'\n",
    "# Input:\n",
    "# ' abcabab'\n",
    "# Output:\n",
    "# ‘abc@b@b\n",
    "s = input(\"Type string : \")\n",
    "char = s[0]\n",
    "for i in s:\n",
    "    s = s.replace(s[0],'@')\n",
    "    s = char + s[1:]\n",
    "print(s)"
   ]
  },
  {
   "cell_type": "code",
   "execution_count": 4,
   "id": "fb76fb4f",
   "metadata": {},
   "outputs": [
    {
     "name": "stdout",
     "output_type": "stream",
     "text": [
      "Enter any string matching\n",
      "matchly\n"
     ]
    }
   ],
   "source": [
    "# 11)Write a Python program to add 'ing' at the end of a given string (string length should be equal to or more than 3). \n",
    "# If the given string already ends with 'ing' then add 'ly' instead. If the string length of the given string is less than 3,\n",
    "# leave it unchanged\n",
    "# Example:\n",
    "# Input:\n",
    "# 'sing’\n",
    "# Output:\n",
    "#'singing'\n",
    "# Input:\n",
    "# ' playing'\n",
    "# Output:\n",
    "# ‘playly’\n",
    "# Input:\n",
    "# ' on'\n",
    "# Output:\n",
    "# ‘on’\n",
    "var3= input(\"Enter any string \")\n",
    "var4=[]\n",
    "if len(var3)>=3 and var3.endswith(\"ing\"):\n",
    "    var4=var3.replace(\"ing\",\"ly\")\n",
    "    print(var4)\n",
    "elif len(var3)>=3:\n",
    "    var3=var4.append(var3+\"ing\")\n",
    "    print(var4)\n",
    "elif len(var3)<3:\n",
    "    var4.append(var3)\n",
    "    print(var4)"
   ]
  },
  {
   "cell_type": "code",
   "execution_count": 6,
   "id": "c40e0974",
   "metadata": {},
   "outputs": [
    {
     "name": "stdout",
     "output_type": "stream",
     "text": [
      "enter the numbe1 :10\n",
      "eneter the number2 :5\n",
      "True\n"
     ]
    }
   ],
   "source": [
    "#12)Write a python program that accepts two inputs num1 and num2 print True if one of them is 10 or if their sum is 10 otherwise print False\n",
    "\n",
    "a=int(input(\"enter the numbe1 :\"))\n",
    "b=int(input(\"eneter the number2 :\"))\n",
    "c=a+b\n",
    "if a>=10 or b>=10 or c==10:\n",
    "    print(\"True\")\n",
    "else:\n",
    "    print(\"False\")"
   ]
  },
  {
   "cell_type": "code",
   "execution_count": 8,
   "id": "93d0c754",
   "metadata": {},
   "outputs": [
    {
     "name": "stdout",
     "output_type": "stream",
     "text": [
      "enter the numbe1 :1\n",
      "eneter the number2 :1\n",
      "eneter the number3 :5\n",
      "True\n"
     ]
    }
   ],
   "source": [
    "#13)Write a python program that accepts three inputs x, y and z print True if x*y>z otherwise False\n",
    "p=int(input(\"enter the numbe1 :\"))\n",
    "q=int(input(\"eneter the number2 :\"))\n",
    "r=int(input(\"eneter the number3 :\"))\n",
    "d=p*q\n",
    "if r>d:\n",
    "    print(\"True\")\n",
    "else:\n",
    "    print(\"False\")"
   ]
  },
  {
   "cell_type": "code",
   "execution_count": 10,
   "id": "a4b7b29c",
   "metadata": {},
   "outputs": [
    {
     "name": "stdout",
     "output_type": "stream",
     "text": [
      "enter the numbe1 :2222\n",
      "eneter the number2 :5\n",
      "NOT EQUAL\n"
     ]
    }
   ],
   "source": [
    "#14)Write a python program that accepts two strings inputs return True depending on whether the total number of characters in the first string is equal to the total number of characters in the second string\n",
    "\n",
    "m=tuple(input(\"enter the numbe1 :\"))\n",
    "n=tuple(input(\"eneter the number2 :\"))\n",
    "if len(m)==len(n):\n",
    "    print(\"True\")\n",
    "else:\n",
    "    print(\"NOT EQUAL\")"
   ]
  },
  {
   "cell_type": "code",
   "execution_count": 12,
   "id": "8c45fcd8",
   "metadata": {},
   "outputs": [
    {
     "name": "stdout",
     "output_type": "stream",
     "text": [
      "Enter your  string :hema\n",
      "hemahemahema\n"
     ]
    }
   ],
   "source": [
    "#15)Write a python program that takes a string input, we'll say that the front is the first three characters of the string. If the string length is less than three characters, the front is whatever is there. Return a new string, which is three copies of the front\n",
    "x=input(\"Enter your  string :\")\n",
    "if len(x)<3:\n",
    "    print(x)\n",
    "elif len(x)>=3:\n",
    "    print(x[0:4]*3)"
   ]
  },
  {
   "cell_type": "code",
   "execution_count": 13,
   "id": "f2f6a532",
   "metadata": {},
   "outputs": [
    {
     "name": "stdout",
     "output_type": "stream",
     "text": [
      "Enter your string birds\n",
      "The word is Plural\n"
     ]
    }
   ],
   "source": [
    "#16)Write a python program that takes in a word and determines whether or not it is plural. A plural word is one that ends in \"s\".\n",
    "str2= input(\"Enter your string \")\n",
    "if str2.endswith(\"s\"):\n",
    "    print(\"The word is Plural\")\n",
    "else:\n",
    "    print(\"The word is Singular\")"
   ]
  },
  {
   "cell_type": "code",
   "execution_count": 16,
   "id": "c171ef04",
   "metadata": {},
   "outputs": [
    {
     "name": "stdout",
     "output_type": "stream",
     "text": [
      "Is bartender on break(True/False): False\n",
      " plese enter the Age of the customer: 55\n",
      "Bartender  serve drinks\n"
     ]
    }
   ],
   "source": [
    "#17)A bartender is writing a simple program to determine whether he should serve drinks to someone. He only serves drinks to people 18 and older and when he's not on break (True means break and False means not a break time). Given the person's age, and whether break time is in session, create a python program which prints whether he should serve drinks or not.\n",
    "x=input(\"Is bartender on break(True/False): \")\n",
    "if x==\"True\":\n",
    "    print(\"Bartender should not serve drinks\")\n",
    "elif x==\"False\":\n",
    "    y=int(input(\" plese enter the Age of the customer: \"))\n",
    "    if y>=18:\n",
    "        print(\"Bartender  serve drinks\")\n",
    "    else:\n",
    "        print(\"Bartender  not serve drinks\")\n",
    "else:\n",
    "    print(\"Input has to be True or False\")"
   ]
  },
  {
   "cell_type": "code",
   "execution_count": 17,
   "id": "ed8b2921",
   "metadata": {},
   "outputs": [
    {
     "name": "stdout",
     "output_type": "stream",
     "text": [
      "enter the name :Tarun\n",
      "Tarun brother\n"
     ]
    }
   ],
   "source": [
    "#18)Manoj Kumar has family and friends. Help him remind them who is who. Given a string with a name, return the relation of that person to Manoj Kumar.\n",
    "#Person Relation\n",
    "#Shiva father\n",
    "#Letha mother\n",
    "#Tarun brother\n",
    "name=input(\"enter the name :\")\n",
    "if name==\"Shiva\":\n",
    "    print(name,\"father\")\n",
    "elif name==\"Letha\":\n",
    "    print(name,\"mother\")\n",
    "elif name==\"Tarun\":\n",
    "    print(name,\"brother\")\n",
    "elif name==\"Kavita\":\n",
    "    print(name,\"sister\")\n",
    "elif name==\"Stranger\":\n",
    "    print(name,\"coder\")"
   ]
  },
  {
   "cell_type": "code",
   "execution_count": 18,
   "id": "6b4e163e",
   "metadata": {},
   "outputs": [
    {
     "name": "stdout",
     "output_type": "stream",
     "text": [
      "Type the string: abcdefgh\n",
      "aebcdfgh\n"
     ]
    }
   ],
   "source": [
    "#19)Write a python program that takes a string, breaks it up and returns it with vowels first, consonants second. For any character that's not a vowel (like special characters or spaces), treat them like consonants\n",
    "x=input(\"Type the string: \")\n",
    "x1=\"\"\n",
    "x2=\"\"\n",
    "for y in range(len(x)):\n",
    "    if x[y]==\"a\" or x[y]==\"e\" or x[y]==\"i\" or x[y]==\"o\" or x[y]==\"u\":\n",
    "        x1=x1+x[y]\n",
    "    else:\n",
    "        x2=x2+x[y]\n",
    "print(x1+x2)  "
   ]
  },
  {
   "cell_type": "code",
   "execution_count": 20,
   "id": "fbf8371f",
   "metadata": {},
   "outputs": [
    {
     "name": "stdout",
     "output_type": "stream",
     "text": [
      "eneter first value :10\n",
      "enter second value :50\n",
      "type any of this [+, -, *, /, %, **] -\n",
      "The substraction of two numbers is : -40\n"
     ]
    }
   ],
   "source": [
    "#20) Create a dynamic calculator which asks for numbers and operator and return the answers\n",
    "#Example\n",
    "#Input:\n",
    "#Type first number: 10\n",
    "#Type any of this (+, -, *, /, %, **): *\n",
    "#Assignment-2\n",
    "#Type second number: 19\n",
    "#Output:\n",
    "#Answer is 190\n",
    "a=int(input(\"eneter first value :\"))\n",
    "b=int(input(\"enter second value :\"))\n",
    "c=input(\"type any of this [+, -, *, /, %, **] \")\n",
    "if c==\"+\":\n",
    "    print(\"The addition of two numbers is :\",a+b)\n",
    "elif c==\"-\":\n",
    "    print(\"The substraction of two numbers is :\",a-b)\n",
    "elif c==\"*\":\n",
    "    print(\"The product of two numbers is :\",a*b)\n",
    "elif c==\"%\":\n",
    "    print(\"The  floor division of two numbers is\",a%b)\n",
    "elif c==\"/\":\n",
    "    print(\"The floor division of twi numbers is \",a/b)\n",
    "elif c==\"**\":\n",
    "    print(\"The power of two numbers is\",a**b)"
   ]
  },
  {
   "cell_type": "code",
   "execution_count": null,
   "id": "4c5b5dc3",
   "metadata": {},
   "outputs": [],
   "source": []
  }
 ],
 "metadata": {
  "kernelspec": {
   "display_name": "Python 3 (ipykernel)",
   "language": "python",
   "name": "python3"
  },
  "language_info": {
   "codemirror_mode": {
    "name": "ipython",
    "version": 3
   },
   "file_extension": ".py",
   "mimetype": "text/x-python",
   "name": "python",
   "nbconvert_exporter": "python",
   "pygments_lexer": "ipython3",
   "version": "3.9.13"
  }
 },
 "nbformat": 4,
 "nbformat_minor": 5
}
